{
 "cells": [
  {
   "cell_type": "code",
   "execution_count": 1,
   "metadata": {},
   "outputs": [
    {
     "name": "stdout",
     "output_type": "stream",
     "text": [
      "Iris dataset saved as 'iris_data.pkl'\n",
      "Shape of X (features): (150, 4)\n",
      "Sample of features (X): [[5.1 3.5 1.4 0.2]\n",
      " [4.9 3.  1.4 0.2]\n",
      " [4.7 3.2 1.3 0.2]\n",
      " [4.6 3.1 1.5 0.2]\n",
      " [5.  3.6 1.4 0.2]]\n",
      "Target labels (y): [0 0 0 0 0]\n"
     ]
    }
   ],
   "source": [
    "import pickle\n",
    "from sklearn.datasets import load_iris\n",
    "\n",
    "# Load the Iris dataset\n",
    "iris = load_iris()\n",
    "data = {'data': iris.data, 'target': iris.target}\n",
    "\n",
    "# Save the Iris dataset to a pickle file\n",
    "with open(\"iris_data.pkl\", \"wb\") as file:\n",
    "    pickle.dump(data, file)\n",
    "\n",
    "print(\"Iris dataset saved as 'iris_data.pkl'\")\n",
    "\n",
    "# Print the shape and a sample of the data to inspect it\n",
    "print(f\"Shape of X (features): {iris.data.shape}\")\n",
    "print(f\"Sample of features (X): {iris.data[:5]}\")  # First 5 rows of the data\n",
    "print(f\"Target labels (y): {iris.target[:5]}\")  # First 5 target labels\n"
   ]
  },
  {
   "cell_type": "code",
   "execution_count": null,
   "metadata": {},
   "outputs": [],
   "source": [
    "import pickle\n",
    "import numpy as np\n",
    "\n",
    "# Load the pickle file containing the Iris dataset\n",
    "with open(\"iris_data.pkl\", \"rb\") as file:\n",
    "    data = pickle.load(file)\n",
    "\n",
    "# Extract features and target labels from the loaded data\n",
    "X = data['data']\n",
    "y = data['target']\n",
    "\n",
    "# Print the shape and a sample of the data to check\n",
    "print(f\"Shape of X (features): {X.shape}\")\n",
    "print(f\"Sample of features (X): {X[:5]}\")  # First 5 rows of the data\n",
    "print(f\"Target labels (y): {y[:5]}\")  # First 5 target labels\n",
    "\n",
    "# Let's add new data (e.g., one new sample of 4 features) and check the output\n",
    "new_data = np.array([[5.1, 3.5, 1.4, 0.2]])  # New sample\n",
    "new_prediction = np.array([0])  # Corresponding target label (e.g., class 0)\n",
    "\n",
    "# Append the new data to the existing dataset\n",
    "X_new = np.vstack([X, new_data])  # Add new sample to feature data\n",
    "y_new = np.append(y, new_prediction)  # Add new target label\n",
    "\n",
    "# Print the updated data\n",
    "print(f\"Updated shape of X (features): {X_new.shape}\")\n",
    "print(f\"Updated sample of features (X): {X_new[-5:]}\")  # Last 5 rows of the data\n",
    "print(f\"Updated target labels (y): {y_new[-5:]}\")  # Last 5 target labels\n"
   ]
  }
 ],
 "metadata": {
  "kernelspec": {
   "display_name": "base",
   "language": "python",
   "name": "python3"
  },
  "language_info": {
   "codemirror_mode": {
    "name": "ipython",
    "version": 3
   },
   "file_extension": ".py",
   "mimetype": "text/x-python",
   "name": "python",
   "nbconvert_exporter": "python",
   "pygments_lexer": "ipython3",
   "version": "3.12.3"
  }
 },
 "nbformat": 4,
 "nbformat_minor": 2
}
